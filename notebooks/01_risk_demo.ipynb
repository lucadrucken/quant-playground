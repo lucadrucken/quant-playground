{
 "cells": [
  {
   "cell_type": "code",
   "execution_count": 15,
   "metadata": {},
   "outputs": [],
   "source": [
    "import numpy as np \n",
    "import pandas as pd \n",
    "import yfinance as yf \n",
    "import matplotlib.pyplot as plt\n",
    "\n",
    "from qp import sharpe, var_historical\n"
   ]
  },
  {
   "cell_type": "code",
   "execution_count": 16,
   "metadata": {},
   "outputs": [
    {
     "data": {
      "text/html": [
       "<div>\n",
       "<style scoped>\n",
       "    .dataframe tbody tr th:only-of-type {\n",
       "        vertical-align: middle;\n",
       "    }\n",
       "\n",
       "    .dataframe tbody tr th {\n",
       "        vertical-align: top;\n",
       "    }\n",
       "\n",
       "    .dataframe thead th {\n",
       "        text-align: right;\n",
       "    }\n",
       "</style>\n",
       "<table border=\"1\" class=\"dataframe\">\n",
       "  <thead>\n",
       "    <tr style=\"text-align: right;\">\n",
       "      <th>Ticker</th>\n",
       "      <th>AGG</th>\n",
       "      <th>EEM</th>\n",
       "      <th>EFA</th>\n",
       "      <th>GLD</th>\n",
       "      <th>SPY</th>\n",
       "    </tr>\n",
       "    <tr>\n",
       "      <th>Date</th>\n",
       "      <th></th>\n",
       "      <th></th>\n",
       "      <th></th>\n",
       "      <th></th>\n",
       "      <th></th>\n",
       "    </tr>\n",
       "  </thead>\n",
       "  <tbody>\n",
       "    <tr>\n",
       "      <th>2025-09-15</th>\n",
       "      <td>0.001691</td>\n",
       "      <td>0.007271</td>\n",
       "      <td>0.006667</td>\n",
       "      <td>0.010405</td>\n",
       "      <td>0.005324</td>\n",
       "    </tr>\n",
       "    <tr>\n",
       "      <th>2025-09-16</th>\n",
       "      <td>0.000397</td>\n",
       "      <td>0.007409</td>\n",
       "      <td>-0.002778</td>\n",
       "      <td>0.002006</td>\n",
       "      <td>-0.001377</td>\n",
       "    </tr>\n",
       "    <tr>\n",
       "      <th>2025-09-17</th>\n",
       "      <td>-0.001787</td>\n",
       "      <td>0.004337</td>\n",
       "      <td>-0.003749</td>\n",
       "      <td>-0.007715</td>\n",
       "      <td>-0.001242</td>\n",
       "    </tr>\n",
       "    <tr>\n",
       "      <th>2025-09-18</th>\n",
       "      <td>-0.002784</td>\n",
       "      <td>-0.002441</td>\n",
       "      <td>0.003871</td>\n",
       "      <td>-0.004006</td>\n",
       "      <td>0.004672</td>\n",
       "    </tr>\n",
       "    <tr>\n",
       "      <th>2025-09-19</th>\n",
       "      <td>0.000000</td>\n",
       "      <td>-0.002259</td>\n",
       "      <td>-0.003856</td>\n",
       "      <td>0.010607</td>\n",
       "      <td>0.004953</td>\n",
       "    </tr>\n",
       "  </tbody>\n",
       "</table>\n",
       "</div>"
      ],
      "text/plain": [
       "Ticker           AGG       EEM       EFA       GLD       SPY\n",
       "Date                                                        \n",
       "2025-09-15  0.001691  0.007271  0.006667  0.010405  0.005324\n",
       "2025-09-16  0.000397  0.007409 -0.002778  0.002006 -0.001377\n",
       "2025-09-17 -0.001787  0.004337 -0.003749 -0.007715 -0.001242\n",
       "2025-09-18 -0.002784 -0.002441  0.003871 -0.004006  0.004672\n",
       "2025-09-19  0.000000 -0.002259 -0.003856  0.010607  0.004953"
      ]
     },
     "execution_count": 16,
     "metadata": {},
     "output_type": "execute_result"
    }
   ],
   "source": [
    "tickers = [\"SPY\", \"EFA\", \"EEM\", \"AGG\", \"GLD\"]\n",
    "start = \"2020-01-01\"\n",
    "\n",
    "px = yf.download(tickers, start=start, auto_adjust=True, progress=False)[\"Close\"]\n",
    "ret = px.pct_change(fill_method=None).dropna()\n",
    "ret.tail()"
   ]
  },
  {
   "cell_type": "code",
   "execution_count": 17,
   "metadata": {},
   "outputs": [
    {
     "data": {
      "text/plain": [
       "Ticker\n",
       "GLD    0.775053\n",
       "SPY    0.580967\n",
       "EFA    0.290900\n",
       "EEM    0.140309\n",
       "AGG   -0.462496\n",
       "dtype: float64"
      ]
     },
     "execution_count": 17,
     "metadata": {},
     "output_type": "execute_result"
    }
   ],
   "source": [
    "rf_annual = 0.04 \n",
    "rf_daily = rf_annual / 252\n",
    "\n",
    "sharpe_vals = ret.apply(lambda r: sharpe(r.values, risk_free=rf_daily))\n",
    "sharpe_vals.sort_values(ascending=False)"
   ]
  },
  {
   "cell_type": "code",
   "execution_count": 18,
   "metadata": {},
   "outputs": [
    {
     "name": "stderr",
     "output_type": "stream",
     "text": [
      "/var/folders/hx/wjmq524d3rj5kn8qc61dk4dh0000gn/T/ipykernel_97111/501491191.py:2: FutureWarning: YF.download() has changed argument auto_adjust default to True\n",
      "  irx = yf.download(\"^IRX\", start=start, progress=False)[\"Close\"] / 100.0\n"
     ]
    },
    {
     "name": "stdout",
     "output_type": "stream",
     "text": [
      "ret: (1436, 5) rf_vec: (1436,)\n"
     ]
    },
    {
     "data": {
      "text/plain": [
       "Ticker\n",
       "GLD    0.858314\n",
       "SPY    0.643516\n",
       "EFA    0.357795\n",
       "EEM    0.200324\n",
       "AGG   -0.263890\n",
       "dtype: float64"
      ]
     },
     "execution_count": 18,
     "metadata": {},
     "output_type": "execute_result"
    }
   ],
   "source": [
    "\n",
    "# ^IRX laden (annualisiert in %) -> daily (Dezimal) & auf ret-Index ausrichten\n",
    "irx = yf.download(\"^IRX\", start=start, progress=False)[\"Close\"] / 100.0\n",
    "rf_daily_series = irx.reindex(ret.index).ffill() / 252  \n",
    "rf_vec = getattr(rf_daily_series, \"squeeze\", lambda: rf_daily_series)()\n",
    "rf_vec = rf_vec.to_numpy().reshape(-1) \n",
    "\n",
    "\n",
    "print(\"ret:\", ret.shape, \"rf_vec:\", rf_vec.shape)\n",
    "\n",
    "\n",
    "sharpe_irx = ret.apply(lambda col: sharpe(col.to_numpy(), risk_free=rf_vec, ddof=1))\n",
    "sharpe_irx.sort_values(ascending=False)"
   ]
  },
  {
   "cell_type": "code",
   "execution_count": 19,
   "metadata": {},
   "outputs": [
    {
     "data": {
      "image/png": "[encoded data removed]",
      "text/plain": [
       "<Figure size 700x300 with 1 Axes>"
      ]
     },
     "metadata": {},
     "output_type": "display_data"
    }
   ],
   "source": [
    "ax = sharpe_irx.sort_values().plot(kind=\"barh\", figsize=(7,3),\n",
    "                                   title=\"Sharpe seit 2020 (Rf = täglicher 3M T-Bill)\")\n",
    "ax.set_xlabel(\"Sharpe\"); ax.grid(True, axis=\"x\", alpha=0.3)\n",
    "plt.tight_layout(); plt.show()"
   ]
  },
  {
   "cell_type": "code",
   "execution_count": 20,
   "metadata": {},
   "outputs": [
    {
     "name": "stdout",
     "output_type": "stream",
     "text": [
      "6.928203230275507\n"
     ]
    }
   ],
   "source": [
    "from qp.risk import sharpe\n",
    "print(sharpe([0.01, 0.02, -0.01], 0.0))"
   ]
  },
  {
   "cell_type": "code",
   "execution_count": 21,
   "metadata": {},
   "outputs": [
    {
     "name": "stdout",
     "output_type": "stream",
     "text": [
      "VaR 95%  (1-Tages): 1.6441%\n",
      "VaR 99%  (1-Tages): 2.3438%\n",
      "VaR 99.9%(1-Tages): 3.0430%\n"
     ]
    },
    {
     "data": {
      "image/png": "[encoded data removed]",
      "text/plain": [
       "<Figure size 700x400 with 1 Axes>"
      ]
     },
     "metadata": {},
     "output_type": "display_data"
    }
   ],
   "source": [
    "\n",
    "# Simulierte Tagesrenditen (leicht positiv, realistische Volatilität)\n",
    "rng = np.random.default_rng(42)\n",
    "returns = rng.normal(0.0003, 0.01, 10_000)\n",
    "\n",
    "v95 = var_historical(returns, level=0.95)\n",
    "v99 = var_historical(returns, level=0.99)\n",
    "v999 = var_historical(returns, level=0.999)\n",
    "\n",
    "print(f\"VaR 95%  (1-Tages): {v95:.4%}\")\n",
    "print(f\"VaR 99%  (1-Tages): {v99:.4%}\")\n",
    "print(f\"VaR 99.9%(1-Tages): {v999:.4%}\")\n",
    "\n",
    "# Histogramm der Verluste mit VaR-Linien\n",
    "losses = -returns\n",
    "plt.figure(figsize=(7,4))\n",
    "plt.hist(losses, bins=80, alpha=0.7)\n",
    "for v, lbl in [(v95, \"VaR 95%\"), (v99, \"VaR 99%\"), (v999, \"VaR 99.9%\")]:\n",
    "    plt.axvline(v, linestyle=\"--\", linewidth=2, label=f\"{lbl}: {v:.2%}\")\n",
    "plt.title(\"Verlustverteilung (1-Periode) & VaR-Schwellen\")\n",
    "plt.xlabel(\"Loss\")\n",
    "plt.ylabel(\"Häufigkeit\")\n",
    "plt.legend()\n",
    "plt.show()"
   ]
  }
 ],
 "metadata": {
  "kernelspec": {
   "display_name": "venv",
   "language": "python",
   "name": "python3"
  },
  "language_info": {
   "codemirror_mode": {
    "name": "ipython",
    "version": 3
   },
   "file_extension": ".py",
   "mimetype": "text/x-python",
   "name": "python",
   "nbconvert_exporter": "python",
   "pygments_lexer": "ipython3",
   "version": "3.12.2"
  }
 },
 "nbformat": 4,
 "nbformat_minor": 2
}
