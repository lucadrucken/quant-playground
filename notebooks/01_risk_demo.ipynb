{
 "cells": [
  {
   "cell_type": "code",
   "execution_count": 1,
   "metadata": {},
   "outputs": [],
   "source": [
    "import numpy as np \n",
    "import pandas as pd \n",
    "import yfinance as yf \n",
    "import matplotlib.pyplot as plt\n",
    "\n",
    "from qp import sharpe, var_historical\n"
   ]
  },
  {
   "cell_type": "code",
   "execution_count": 2,
   "metadata": {},
   "outputs": [
    {
     "data": {
      "text/html": [
       "<div>\n",
       "<style scoped>\n",
       "    .dataframe tbody tr th:only-of-type {\n",
       "        vertical-align: middle;\n",
       "    }\n",
       "\n",
       "    .dataframe tbody tr th {\n",
       "        vertical-align: top;\n",
       "    }\n",
       "\n",
       "    .dataframe thead th {\n",
       "        text-align: right;\n",
       "    }\n",
       "</style>\n",
       "<table border=\"1\" class=\"dataframe\">\n",
       "  <thead>\n",
       "    <tr style=\"text-align: right;\">\n",
       "      <th>Ticker</th>\n",
       "      <th>AGG</th>\n",
       "      <th>EEM</th>\n",
       "      <th>EFA</th>\n",
       "      <th>GLD</th>\n",
       "      <th>SPY</th>\n",
       "    </tr>\n",
       "    <tr>\n",
       "      <th>Date</th>\n",
       "      <th></th>\n",
       "      <th></th>\n",
       "      <th></th>\n",
       "      <th></th>\n",
       "      <th></th>\n",
       "    </tr>\n",
       "  </thead>\n",
       "  <tbody>\n",
       "    <tr>\n",
       "      <th>2025-09-03</th>\n",
       "      <td>0.003641</td>\n",
       "      <td>0.003814</td>\n",
       "      <td>0.001546</td>\n",
       "      <td>0.007832</td>\n",
       "      <td>0.005420</td>\n",
       "    </tr>\n",
       "    <tr>\n",
       "      <th>2025-09-04</th>\n",
       "      <td>0.004031</td>\n",
       "      <td>-0.003199</td>\n",
       "      <td>0.007275</td>\n",
       "      <td>-0.004419</td>\n",
       "      <td>0.008357</td>\n",
       "    </tr>\n",
       "    <tr>\n",
       "      <th>2025-09-05</th>\n",
       "      <td>0.004717</td>\n",
       "      <td>0.012036</td>\n",
       "      <td>0.004487</td>\n",
       "      <td>0.013346</td>\n",
       "      <td>-0.002896</td>\n",
       "    </tr>\n",
       "    <tr>\n",
       "      <th>2025-09-08</th>\n",
       "      <td>0.003397</td>\n",
       "      <td>0.009118</td>\n",
       "      <td>0.010023</td>\n",
       "      <td>0.011388</td>\n",
       "      <td>0.002457</td>\n",
       "    </tr>\n",
       "    <tr>\n",
       "      <th>2025-09-09</th>\n",
       "      <td>-0.001295</td>\n",
       "      <td>0.006482</td>\n",
       "      <td>-0.003421</td>\n",
       "      <td>0.000926</td>\n",
       "      <td>0.001626</td>\n",
       "    </tr>\n",
       "  </tbody>\n",
       "</table>\n",
       "</div>"
      ],
      "text/plain": [
       "Ticker           AGG       EEM       EFA       GLD       SPY\n",
       "Date                                                        \n",
       "2025-09-03  0.003641  0.003814  0.001546  0.007832  0.005420\n",
       "2025-09-04  0.004031 -0.003199  0.007275 -0.004419  0.008357\n",
       "2025-09-05  0.004717  0.012036  0.004487  0.013346 -0.002896\n",
       "2025-09-08  0.003397  0.009118  0.010023  0.011388  0.002457\n",
       "2025-09-09 -0.001295  0.006482 -0.003421  0.000926  0.001626"
      ]
     },
     "execution_count": 2,
     "metadata": {},
     "output_type": "execute_result"
    }
   ],
   "source": [
    "tickers = [\"SPY\", \"EFA\", \"EEM\", \"AGG\", \"GLD\"]\n",
    "start = \"2020-01-01\"\n",
    "\n",
    "px = yf.download(tickers, start=start, auto_adjust=True, progress=False)[\"Close\"]\n",
    "ret = px.pct_change(fill_method=None).dropna()\n",
    "ret.tail()"
   ]
  },
  {
   "cell_type": "code",
   "execution_count": 3,
   "metadata": {},
   "outputs": [
    {
     "data": {
      "text/plain": [
       "Ticker\n",
       "GLD    0.765965\n",
       "SPY    0.563865\n",
       "EFA    0.287044\n",
       "EEM    0.114445\n",
       "AGG   -0.460153\n",
       "dtype: float64"
      ]
     },
     "execution_count": 3,
     "metadata": {},
     "output_type": "execute_result"
    }
   ],
   "source": [
    "rf_annual = 0.04 \n",
    "rf_daily = rf_annual / 252\n",
    "\n",
    "sharpe_vals = ret.apply(lambda r: sharpe(r.values, risk_free=rf_daily))\n",
    "sharpe_vals.sort_values(ascending=False)"
   ]
  },
  {
   "cell_type": "code",
   "execution_count": 4,
   "metadata": {},
   "outputs": [
    {
     "name": "stdout",
     "output_type": "stream",
     "text": [
      "ret: (1428, 5) rf_vec: (1428,)\n"
     ]
    },
    {
     "name": "stderr",
     "output_type": "stream",
     "text": [
      "C:\\Users\\Luca\\AppData\\Local\\Temp\\ipykernel_13832\\501491191.py:2: FutureWarning: YF.download() has changed argument auto_adjust default to True\n",
      "  irx = yf.download(\"^IRX\", start=start, progress=False)[\"Close\"] / 100.0\n"
     ]
    },
    {
     "data": {
      "text/plain": [
       "Ticker\n",
       "GLD    0.849510\n",
       "SPY    0.626576\n",
       "EFA    0.354130\n",
       "EEM    0.174640\n",
       "AGG   -0.260977\n",
       "dtype: float64"
      ]
     },
     "execution_count": 4,
     "metadata": {},
     "output_type": "execute_result"
    }
   ],
   "source": [
    "\n",
    "# ^IRX laden (annualisiert in %) -> daily (Dezimal) & auf ret-Index ausrichten\n",
    "irx = yf.download(\"^IRX\", start=start, progress=False)[\"Close\"] / 100.0\n",
    "rf_daily_series = irx.reindex(ret.index).ffill() / 252  \n",
    "rf_vec = getattr(rf_daily_series, \"squeeze\", lambda: rf_daily_series)()\n",
    "rf_vec = rf_vec.to_numpy().reshape(-1) \n",
    "\n",
    "\n",
    "print(\"ret:\", ret.shape, \"rf_vec:\", rf_vec.shape)\n",
    "\n",
    "\n",
    "sharpe_irx = ret.apply(lambda col: sharpe(col.to_numpy(), risk_free=rf_vec, ddof=1))\n",
    "sharpe_irx.sort_values(ascending=False)"
   ]
  },
  {
   "cell_type": "code",
   "execution_count": 5,
   "metadata": {},
   "outputs": [
    {
     "data": {
      "image/png": "[encoded data removed]",
      "text/plain": [
       "<Figure size 700x300 with 1 Axes>"
      ]
     },
     "metadata": {},
     "output_type": "display_data"
    }
   ],
   "source": [
    "ax = sharpe_irx.sort_values().plot(kind=\"barh\", figsize=(7,3),\n",
    "                                   title=\"Sharpe seit 2020 (Rf = täglicher 3M T-Bill)\")\n",
    "ax.set_xlabel(\"Sharpe\"); ax.grid(True, axis=\"x\", alpha=0.3)\n",
    "plt.tight_layout(); plt.show()"
   ]
  },
  {
   "cell_type": "code",
   "execution_count": 6,
   "metadata": {},
   "outputs": [
    {
     "name": "stdout",
     "output_type": "stream",
     "text": [
      "6.928203230275507\n"
     ]
    }
   ],
   "source": [
    "from qp.risk import sharpe\n",
    "print(sharpe([0.01, 0.02, -0.01], 0.0))"
   ]
  },
  {
   "cell_type": "code",
   "execution_count": 7,
   "metadata": {},
   "outputs": [
    {
     "name": "stdout",
     "output_type": "stream",
     "text": [
      "VaR 95%  (1-Tages): 1.6441%\n",
      "VaR 99%  (1-Tages): 2.3438%\n",
      "VaR 99.9%(1-Tages): 3.0430%\n"
     ]
    },
    {
     "data": {
      "image/png": "[encoded data removed]",
      "text/plain": [
       "<Figure size 700x400 with 1 Axes>"
      ]
     },
     "metadata": {},
     "output_type": "display_data"
    }
   ],
   "source": [
    "\n",
    "# Simulierte Tagesrenditen (leicht positiv, realistische Volatilität)\n",
    "rng = np.random.default_rng(42)\n",
    "returns = rng.normal(0.0003, 0.01, 10_000)\n",
    "\n",
    "v95 = var_historical(returns, level=0.95)\n",
    "v99 = var_historical(returns, level=0.99)\n",
    "v999 = var_historical(returns, level=0.999)\n",
    "\n",
    "print(f\"VaR 95%  (1-Tages): {v95:.4%}\")\n",
    "print(f\"VaR 99%  (1-Tages): {v99:.4%}\")\n",
    "print(f\"VaR 99.9%(1-Tages): {v999:.4%}\")\n",
    "\n",
    "# Histogramm der Verluste mit VaR-Linien\n",
    "losses = -returns\n",
    "plt.figure(figsize=(7,4))\n",
    "plt.hist(losses, bins=80, alpha=0.7)\n",
    "for v, lbl in [(v95, \"VaR 95%\"), (v99, \"VaR 99%\"), (v999, \"VaR 99.9%\")]:\n",
    "    plt.axvline(v, linestyle=\"--\", linewidth=2, label=f\"{lbl}: {v:.2%}\")\n",
    "plt.title(\"Verlustverteilung (1-Periode) & VaR-Schwellen\")\n",
    "plt.xlabel(\"Loss\")\n",
    "plt.ylabel(\"Häufigkeit\")\n",
    "plt.legend()\n",
    "plt.show()"
   ]
  }
 ],
 "metadata": {
  "kernelspec": {
   "display_name": ".venv",
   "language": "python",
   "name": "python3"
  },
  "language_info": {
   "codemirror_mode": {
    "name": "ipython",
    "version": 3
   },
   "file_extension": ".py",
   "mimetype": "text/x-python",
   "name": "python",
   "nbconvert_exporter": "python",
   "pygments_lexer": "ipython3",
   "version": "3.12.10"
  }
 },
 "nbformat": 4,
 "nbformat_minor": 2
}
