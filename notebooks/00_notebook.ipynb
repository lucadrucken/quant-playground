{
 "cells": [
  {
   "cell_type": "code",
   "execution_count": 1,
   "id": "825bf44d",
   "metadata": {},
   "outputs": [],
   "source": [
    "from qp import bs_price, binomial_price"
   ]
  },
  {
   "cell_type": "code",
   "execution_count": 2,
   "id": "4fcd41ff",
   "metadata": {},
   "outputs": [
    {
     "data": {
      "text/plain": [
       "(0.01186750128952438, 581.2634946913597)"
      ]
     },
     "execution_count": 2,
     "metadata": {},
     "output_type": "execute_result"
    }
   ],
   "source": [
    "S = 361.70\n",
    "K = 950.00\n",
    "r = 0.0275\n",
    "q = 0.00\n",
    "sigma = 0.535\n",
    "T = 0.2708\n",
    "\n",
    "\n",
    "\n",
    "call_price = bs_price(S, K, r, q, sigma, T, option_type='call')\n",
    "put_price = bs_price(S, K, r, q, sigma, T, option_type='put')\n",
    "\n",
    "call_price, put_price"
   ]
  },
  {
   "cell_type": "code",
   "execution_count": 2,
   "id": "3f95b105",
   "metadata": {},
   "outputs": [
    {
     "name": "stdout",
     "output_type": "stream",
     "text": [
      "Black-Scholes Call: 80.29776120793875\n",
      "Binomial Call     : 80.29776120793674\n",
      "{'price': 80.29776120793875, 'delta': 1.0, 'gamma': 2.7936763770208042e-31, 'vega': 2.7936763770208044e-28, 'theta': -0.5910671637618375, 'rho': 9.851119396030626, 'phi': -50.0}\n"
     ]
    }
   ],
   "source": [
    "from qp.options import bs_price, binomial_price, bs_greeks\n",
    "\n",
    "S,K,r,q,sigma,T = 100,20,0.03,0.0,0.2,0.5\n",
    "\n",
    "bs = bs_price(S,K,r,q,sigma,T,\"call\")\n",
    "binom = binomial_price(S,K,r,q,sigma,T,steps=500,option_type=\"call\",american=False)\n",
    "greeks = bs_greeks(S,K,r,q,sigma,T,\"call\")\n",
    "\n",
    "print(\"Black-Scholes Call:\", bs)\n",
    "print(\"Binomial Call     :\", binom)\n",
    "print(greeks)\n"
   ]
  },
  {
   "cell_type": "code",
   "execution_count": 15,
   "id": "c8831dd3",
   "metadata": {},
   "outputs": [
    {
     "name": "stdout",
     "output_type": "stream",
     "text": [
      "Annualized Sharpe = 7.47\n"
     ]
    }
   ],
   "source": [
    "\n",
    "from qp import sharpe\n",
    "import numpy as np\n",
    "\n",
    "returns = np.array([0.001, -0.0005, 0.0008, 0.0012, -0.0009, 0.0004, 0.0015])\n",
    "\n",
    "rf_annual = 0.02\n",
    "rf_daily = rf_annual / 252\n",
    "\n",
    "sr = sharpe(returns, risk_free=rf_daily, periods_per_year=252)\n",
    "print(f\"Annualized Sharpe = {sr:.2f}\")\n",
    "\n",
    "\n",
    "\n"
   ]
  },
  {
   "cell_type": "code",
   "execution_count": 17,
   "id": "6a1eb393",
   "metadata": {},
   "outputs": [
    {
     "name": "stdout",
     "output_type": "stream",
     "text": [
      "VaR(99%) per period = 0.0116\n"
     ]
    }
   ],
   "source": [
    "from qp import var_historical\n",
    "import numpy as np\n",
    "\n",
    "returns = np.array([0.004, -0.006, 0.001, -0.012, 0.003, 0.007, -0.004, 0.002])\n",
    "\n",
    "var99 = var_historical(returns, level=0.99)\n",
    "print(f\"VaR(99%) per period = {var99:.4f}\")\n",
    "\n"
   ]
  },
  {
   "cell_type": "code",
   "execution_count": 23,
   "id": "20190d42",
   "metadata": {},
   "outputs": [
    {
     "name": "stdout",
     "output_type": "stream",
     "text": [
      "1044.912925031211\n"
     ]
    }
   ],
   "source": [
    "from qp import bond_price\n",
    "\n",
    "price = bond_price(face_value=1000, maturity=5,\n",
    "                   coupon_rate=0.05, ytm=0.04, freq=2)\n",
    "print(price)  # -> ~1035.74\n"
   ]
  },
  {
   "cell_type": "code",
   "execution_count": 25,
   "id": "197ebcc5",
   "metadata": {},
   "outputs": [
    {
     "name": "stdout",
     "output_type": "stream",
     "text": [
      "8.34940576709677 7.364289722855496\n"
     ]
    }
   ],
   "source": [
    "\n",
    "from qp import bs_price\n",
    "\n",
    "call = bs_price(100, 100, 0.02, 0.01, 0.2, 1.0, \"call\")\n",
    "put  = bs_price(100, 100, 0.02, 0.01, 0.2, 1.0, \"put\")\n",
    "print(call, put)\n",
    "\n"
   ]
  },
  {
   "cell_type": "code",
   "execution_count": 26,
   "id": "305a3e47",
   "metadata": {},
   "outputs": [
    {
     "name": "stdout",
     "output_type": "stream",
     "text": [
      "5.5695275865157745 6.088810110703037\n"
     ]
    }
   ],
   "source": [
    "from qp import binomial_price\n",
    "\n",
    "eu_put = binomial_price(100, 100, 0.05, 0.0, 0.2, 1.0,\n",
    "                        steps=500, option_type=\"put\", american=False)\n",
    "am_put = binomial_price(100, 100, 0.05, 0.0, 0.2, 1.0,\n",
    "                        steps=500, option_type=\"put\", american=True)\n",
    "print(eu_put, am_put)  # American Put >= European Put"
   ]
  },
  {
   "cell_type": "code",
   "execution_count": 5,
   "id": "64efefa8",
   "metadata": {},
   "outputs": [
    {
     "name": "stdout",
     "output_type": "stream",
     "text": [
      "22.690303542815613 2.609696457184384 0.8096964571843834 ((20.890303542815616, 119.40149750312187), (0.0, 98.51119396030626))\n"
     ]
    }
   ],
   "source": [
    "from qp import call_from_put, put_from_call, parity_gap, parity_bounds\n",
    "\n",
    "S = 120\n",
    "K = 100 \n",
    "r = 0.03\n",
    "q = 0.01\n",
    "T = 0.5\n",
    "\n",
    "Cp = 23.5\n",
    "Pp = 1.8\n",
    "\n",
    "\n",
    "call = call_from_put(Pp, S, K, r, q, T)\n",
    "put = put_from_call(Cp,S,K,r,q,T)\n",
    "PG = parity_gap(Cp,Pp,S,K,r,q,T)\n",
    "PB = parity_bounds(S,K,r,q,T)\n",
    "\n",
    "\n",
    "print(call, put, PG, PB)\n",
    "\n"
   ]
  },
  {
   "cell_type": "code",
   "execution_count": 1,
   "id": "e241ce11",
   "metadata": {},
   "outputs": [
    {
     "name": "stdout",
     "output_type": "stream",
     "text": [
      "S= 60.0 Δ=0.015  Γ=0.00284 ν=1.918  Θ/365=-0.0009\n",
      "S= 70.0 Δ=0.071  Γ=0.00894 ν=8.211  Θ/365=-0.0040\n",
      "S= 80.0 Δ=0.197  Γ=0.01601 ν=19.208  Θ/365=-0.0095\n",
      "S= 90.0 Δ=0.379  Γ=0.01952 ν=29.644  Θ/365=-0.0152\n",
      "S=100.0 Δ=0.570  Γ=0.01814 ν=34.009  Θ/365=-0.0181\n",
      "S=110.0 Δ=0.732  Γ=0.01384 ν=31.403  Θ/365=-0.0179\n",
      "S=120.0 Δ=0.846  Γ=0.00913 ν=24.652  Θ/365=-0.0155\n",
      "S=130.0 Δ=0.918  Γ=0.00540 ν=17.109  Θ/365=-0.0126\n",
      "S=140.0 Δ=0.958  Γ=0.00294 ν=10.800  Θ/365=-0.0100\n"
     ]
    }
   ],
   "source": [
    "import numpy as np\n",
    "from qp import bs_greeks\n",
    "\n",
    "S = np.linspace(60, 140, 9)\n",
    "for s in S:\n",
    "    g = bs_greeks(s, 100, r=0.02, q=0.00, sigma=0.25, T=0.75, option_type=\"call\")\n",
    "    print(\n",
    "    f\"S={s:5.1f} Δ={g['delta']:.3f}  Γ={g['gamma']:.5f} ν={g['vega']:.3f}  Θ/365={(g['theta']/365):.4f}\")\n"
   ]
  },
  {
   "cell_type": "code",
   "execution_count": null,
   "id": "2b52a7fa",
   "metadata": {},
   "outputs": [],
   "source": []
  }
 ],
 "metadata": {
  "kernelspec": {
   "display_name": "venv",
   "language": "python",
   "name": "python3"
  },
  "language_info": {
   "codemirror_mode": {
    "name": "ipython",
    "version": 3
   },
   "file_extension": ".py",
   "mimetype": "text/x-python",
   "name": "python",
   "nbconvert_exporter": "python",
   "pygments_lexer": "ipython3",
   "version": "3.12.2"
  }
 },
 "nbformat": 4,
 "nbformat_minor": 5
}
