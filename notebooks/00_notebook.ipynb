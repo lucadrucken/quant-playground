{
 "cells": [
  {
   "cell_type": "code",
   "execution_count": 1,
   "id": "825bf44d",
   "metadata": {},
   "outputs": [],
   "source": [
    "from qp import bs_price, binomial_price"
   ]
  },
  {
   "cell_type": "code",
   "execution_count": 2,
   "id": "4fcd41ff",
   "metadata": {},
   "outputs": [
    {
     "data": {
      "text/plain": [
       "(0.01186750128952438, 581.2634946913597)"
      ]
     },
     "execution_count": 2,
     "metadata": {},
     "output_type": "execute_result"
    }
   ],
   "source": [
    "S = 361.70\n",
    "K = 950.00\n",
    "r = 0.0275\n",
    "q = 0.00\n",
    "sigma = 0.535\n",
    "T = 0.2708\n",
    "\n",
    "\n",
    "\n",
    "call_price = bs_price(S, K, r, q, sigma, T, option_type='call')\n",
    "put_price = bs_price(S, K, r, q, sigma, T, option_type='put')\n",
    "\n",
    "call_price, put_price"
   ]
  },
  {
   "cell_type": "code",
   "execution_count": 12,
   "id": "3f95b105",
   "metadata": {},
   "outputs": [
    {
     "name": "stdout",
     "output_type": "stream",
     "text": [
      "Black-Scholes Call: 80.29776120793875\n",
      "Binomial Call     : 80.29776120793674\n"
     ]
    }
   ],
   "source": [
    "from qp.options import bs_price, binomial_price\n",
    "\n",
    "S,K,r,q,sigma,T = 100,20,0.03,0.0,0.2,0.5\n",
    "\n",
    "bs = bs_price(S,K,r,q,sigma,T,\"call\")\n",
    "binom = binomial_price(S,K,r,q,sigma,T,steps=500,option_type=\"call\",american=False)\n",
    "\n",
    "print(\"Black-Scholes Call:\", bs)\n",
    "print(\"Binomial Call     :\", binom)\n"
   ]
  }
 ],
 "metadata": {
  "kernelspec": {
   "display_name": "venv",
   "language": "python",
   "name": "python3"
  },
  "language_info": {
   "codemirror_mode": {
    "name": "ipython",
    "version": 3
   },
   "file_extension": ".py",
   "mimetype": "text/x-python",
   "name": "python",
   "nbconvert_exporter": "python",
   "pygments_lexer": "ipython3",
   "version": "3.12.2"
  }
 },
 "nbformat": 4,
 "nbformat_minor": 5
}
