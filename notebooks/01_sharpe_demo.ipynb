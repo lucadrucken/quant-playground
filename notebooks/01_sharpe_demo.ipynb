{
 "cells": [
  {
   "cell_type": "code",
   "execution_count": 2,
   "metadata": {},
   "outputs": [],
   "source": [
    "import sys, pathlib \n",
    "sys.path.append(str(pathlib.Path().resolve().parent / \"src\"))\n",
    "\n",
    "\n",
    "import numpy as np \n",
    "import pandas as pd \n",
    "import yfinance as yf \n",
    "import matplotlib.pyplot as plt\n",
    "\n",
    "from qp.metrics import sharpe\n",
    "\n"
   ]
  },
  {
   "cell_type": "code",
   "execution_count": 3,
   "metadata": {},
   "outputs": [
    {
     "data": {
      "text/html": [
       "<div>\n",
       "<style scoped>\n",
       "    .dataframe tbody tr th:only-of-type {\n",
       "        vertical-align: middle;\n",
       "    }\n",
       "\n",
       "    .dataframe tbody tr th {\n",
       "        vertical-align: top;\n",
       "    }\n",
       "\n",
       "    .dataframe thead th {\n",
       "        text-align: right;\n",
       "    }\n",
       "</style>\n",
       "<table border=\"1\" class=\"dataframe\">\n",
       "  <thead>\n",
       "    <tr style=\"text-align: right;\">\n",
       "      <th>Ticker</th>\n",
       "      <th>AGG</th>\n",
       "      <th>EEM</th>\n",
       "      <th>EFA</th>\n",
       "      <th>GLD</th>\n",
       "      <th>SPY</th>\n",
       "    </tr>\n",
       "    <tr>\n",
       "      <th>Date</th>\n",
       "      <th></th>\n",
       "      <th></th>\n",
       "      <th></th>\n",
       "      <th></th>\n",
       "      <th></th>\n",
       "    </tr>\n",
       "  </thead>\n",
       "  <tbody>\n",
       "    <tr>\n",
       "      <th>2025-08-29</th>\n",
       "      <td>-0.001305</td>\n",
       "      <td>-0.004790</td>\n",
       "      <td>-0.005868</td>\n",
       "      <td>0.009650</td>\n",
       "      <td>-0.005964</td>\n",
       "    </tr>\n",
       "    <tr>\n",
       "      <th>2025-09-02</th>\n",
       "      <td>-0.002653</td>\n",
       "      <td>-0.000802</td>\n",
       "      <td>-0.009838</td>\n",
       "      <td>0.023643</td>\n",
       "      <td>-0.007410</td>\n",
       "    </tr>\n",
       "    <tr>\n",
       "      <th>2025-09-03</th>\n",
       "      <td>0.003641</td>\n",
       "      <td>0.003814</td>\n",
       "      <td>0.001546</td>\n",
       "      <td>0.007832</td>\n",
       "      <td>0.005420</td>\n",
       "    </tr>\n",
       "    <tr>\n",
       "      <th>2025-09-04</th>\n",
       "      <td>0.004031</td>\n",
       "      <td>-0.003199</td>\n",
       "      <td>0.007275</td>\n",
       "      <td>-0.004419</td>\n",
       "      <td>0.008357</td>\n",
       "    </tr>\n",
       "    <tr>\n",
       "      <th>2025-09-05</th>\n",
       "      <td>0.004717</td>\n",
       "      <td>0.012036</td>\n",
       "      <td>0.004487</td>\n",
       "      <td>0.013346</td>\n",
       "      <td>-0.002896</td>\n",
       "    </tr>\n",
       "  </tbody>\n",
       "</table>\n",
       "</div>"
      ],
      "text/plain": [
       "Ticker           AGG       EEM       EFA       GLD       SPY\n",
       "Date                                                        \n",
       "2025-08-29 -0.001305 -0.004790 -0.005868  0.009650 -0.005964\n",
       "2025-09-02 -0.002653 -0.000802 -0.009838  0.023643 -0.007410\n",
       "2025-09-03  0.003641  0.003814  0.001546  0.007832  0.005420\n",
       "2025-09-04  0.004031 -0.003199  0.007275 -0.004419  0.008357\n",
       "2025-09-05  0.004717  0.012036  0.004487  0.013346 -0.002896"
      ]
     },
     "execution_count": 3,
     "metadata": {},
     "output_type": "execute_result"
    }
   ],
   "source": [
    "tickers = [\"SPY\", \"EFA\", \"EEM\", \"AGG\", \"GLD\"]\n",
    "start = \"2020-01-01\"\n",
    "\n",
    "px = yf.download(tickers, start=start, auto_adjust=True, progress=False)[\"Close\"]\n",
    "ret = px.pct_change(fill_method=None).dropna()\n",
    "ret.tail()"
   ]
  },
  {
   "cell_type": "code",
   "execution_count": 4,
   "metadata": {},
   "outputs": [
    {
     "data": {
      "text/plain": [
       "Ticker\n",
       "GLD    0.753485\n",
       "SPY    0.561119\n",
       "EFA    0.281698\n",
       "EEM    0.102292\n",
       "AGG   -0.465334\n",
       "dtype: float64"
      ]
     },
     "execution_count": 4,
     "metadata": {},
     "output_type": "execute_result"
    }
   ],
   "source": [
    "rf_annual = 0.04 \n",
    "rf_daily = rf_annual / 252\n",
    "\n",
    "sharpe_vals = ret.apply(lambda r: sharpe(r.values, risk_free=rf_daily))\n",
    "sharpe_vals.sort_values(ascending=False)"
   ]
  },
  {
   "cell_type": "code",
   "execution_count": 11,
   "metadata": {},
   "outputs": [
    {
     "name": "stdout",
     "output_type": "stream",
     "text": [
      "ret: (1426, 5) rf_vec: (1426,)\n"
     ]
    },
    {
     "name": "stderr",
     "output_type": "stream",
     "text": [
      "C:\\Users\\Luca\\AppData\\Local\\Temp\\ipykernel_9704\\501491191.py:2: FutureWarning: YF.download() has changed argument auto_adjust default to True\n",
      "  irx = yf.download(\"^IRX\", start=start, progress=False)[\"Close\"] / 100.0\n"
     ]
    },
    {
     "data": {
      "text/plain": [
       "Ticker\n",
       "GLD    0.837110\n",
       "SPY    0.623870\n",
       "EFA    0.348842\n",
       "EEM    0.162536\n",
       "AGG   -0.265982\n",
       "dtype: float64"
      ]
     },
     "execution_count": 11,
     "metadata": {},
     "output_type": "execute_result"
    }
   ],
   "source": [
    "\n",
    "# ^IRX laden (annualisiert in %) -> daily (Dezimal) & auf ret-Index ausrichten\n",
    "irx = yf.download(\"^IRX\", start=start, progress=False)[\"Close\"] / 100.0\n",
    "rf_daily_series = irx.reindex(ret.index).ffill() / 252  \n",
    "rf_vec = getattr(rf_daily_series, \"squeeze\", lambda: rf_daily_series)()\n",
    "rf_vec = rf_vec.to_numpy().reshape(-1) \n",
    "\n",
    "\n",
    "print(\"ret:\", ret.shape, \"rf_vec:\", rf_vec.shape)\n",
    "\n",
    "\n",
    "sharpe_irx = ret.apply(lambda col: sharpe(col.to_numpy(), risk_free=rf_vec, ddof=1))\n",
    "sharpe_irx.sort_values(ascending=False)"
   ]
  },
  {
   "cell_type": "code",
   "execution_count": 13,
   "metadata": {},
   "outputs": [
    {
     "data": {
      "image/png": "[encoded data removed]",
      "text/plain": [
       "<Figure size 700x300 with 1 Axes>"
      ]
     },
     "metadata": {},
     "output_type": "display_data"
    }
   ],
   "source": [
    "ax = sharpe_irx.sort_values().plot(kind=\"barh\", figsize=(7,3),\n",
    "                                   title=\"Sharpe seit 2020 (Rf = täglicher 3M T-Bill)\")\n",
    "ax.set_xlabel(\"Sharpe\"); ax.grid(True, axis=\"x\", alpha=0.3)\n",
    "plt.tight_layout(); plt.show()"
   ]
  }
 ],
 "metadata": {
  "kernelspec": {
   "display_name": ".venv",
   "language": "python",
   "name": "python3"
  },
  "language_info": {
   "codemirror_mode": {
    "name": "ipython",
    "version": 3
   },
   "file_extension": ".py",
   "mimetype": "text/x-python",
   "name": "python",
   "nbconvert_exporter": "python",
   "pygments_lexer": "ipython3",
   "version": "3.12.10"
  }
 },
 "nbformat": 4,
 "nbformat_minor": 2
}
